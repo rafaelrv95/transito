{
 "cells": [
  {
   "cell_type": "markdown",
   "metadata": {},
   "source": [
    "# Análisis numérico con Python\n",
    "\n",
    "Diego Fernando Marin"
   ]
  },
  {
   "cell_type": "markdown",
   "metadata": {},
   "source": [
    "# Numpy\n",
    "\n",
    "[NumPy](https://numpy.org/) proporciona una forma eficiente de manipular arreglos multi-dimensionales en Python. Sus características más importantes son:\n",
    "- Ofrece la estructura ``ndarray``, que permite trabajar con vectores, matrices y arreglos multi-dimensionales en forma eficiente (memoria y procesamiento)\n",
    "- Provee una sintaxis legible y eficiente para trabajar con dichos datos, desde operadores aritméticos básicos que operan a nivel del elemento, hasta operaciones algebraicas complejas.\n",
    "- A diferencia de las listas, los elementos en un arreglo de Numpy deben tener todos el mismo tipo."
   ]
  },
  {
   "cell_type": "code",
   "execution_count": null,
   "metadata": {},
   "outputs": [],
   "source": [
    "# la forma convencional de importan la librería Numpy\n",
    "import numpy as np\n",
    "np.__version__"
   ]
  },
  {
   "cell_type": "markdown",
   "metadata": {},
   "source": [
    "En su uso más básico, los arreglos Numpy se parecen mucho a las listas. Por ejemplo, compare la creación de este arreglo con los números del 1 al 20, con su lista equivalente."
   ]
  },
  {
   "cell_type": "code",
   "execution_count": null,
   "metadata": {},
   "outputs": [],
   "source": [
    "# Listas básicas de Python\n",
    "lista = list(range(1, 21))\n",
    "print(lista)"
   ]
  },
  {
   "cell_type": "code",
   "execution_count": null,
   "metadata": {},
   "outputs": [],
   "source": [
    "# Arreglo (o Vector) de Numpy\n",
    "arreglo = np.arange(1, 21)\n",
    "print(arreglo)"
   ]
  },
  {
   "cell_type": "markdown",
   "metadata": {},
   "source": [
    "Pero la sintaxis de Numpy para manipular los datos en un arreglo es más elegante que el lenguaje Python básico.\n",
    "\n",
    "Por ejemplo, para crear una lista con todos los números de otra lista elevados al cuadrado:"
   ]
  },
  {
   "cell_type": "code",
   "execution_count": null,
   "metadata": {},
   "outputs": [],
   "source": [
    "# Usando List-comprehension\n",
    "lista2 = [ numero**2 for numero in lista ]\n",
    "print(lista2)"
   ]
  },
  {
   "cell_type": "code",
   "execution_count": null,
   "metadata": {},
   "outputs": [],
   "source": [
    "# Los operados de Numpy se aplican a cada elemento del arreglo\n",
    "arreglo2 = arreglo ** 2\n",
    "print(arreglo2)"
   ]
  },
  {
   "cell_type": "code",
   "execution_count": null,
   "metadata": {},
   "outputs": [],
   "source": [
    "# Las listas están limitadas de una dimensión, los arreglos de Numpy pueden ser multi-dimensionales:\n",
    "matriz = arreglo.reshape(4,5)\n",
    "print(matriz)"
   ]
  },
  {
   "cell_type": "code",
   "execution_count": null,
   "metadata": {},
   "outputs": [],
   "source": [
    "# Todos los elementos de un arreglo deben ser del mismo tipo\n",
    "reales = np.array([5, 3.14, 8, -2, 6.626, 4, 1, 0.5, 9])\n",
    "print(reales)"
   ]
  },
  {
   "cell_type": "code",
   "execution_count": null,
   "metadata": {},
   "outputs": [],
   "source": [
    "# Es posible crear arreglos usando list-comprehension\n",
    "m2 = np.array( [ range(i, i + 7, 3) for i in [3, 7, 11, 15, 19] ] )\n",
    "print(m2)"
   ]
  },
  {
   "cell_type": "markdown",
   "metadata": {},
   "source": [
    "Numpy ofrece muchos métodos para crear arreglos en forma eficiente:"
   ]
  },
  {
   "cell_type": "code",
   "execution_count": null,
   "metadata": {},
   "outputs": [],
   "source": [
    "# Crear un arreglo de tamaño 20, lleno de ceros\n",
    "ceros = np.zeros(20, dtype=int)\n",
    "print(ceros)"
   ]
  },
  {
   "cell_type": "code",
   "execution_count": null,
   "metadata": {},
   "outputs": [],
   "source": [
    "# Crear una matriz 3x5, llena de unos\n",
    "m0 = np.ones((3, 5), dtype=float)\n",
    "print(m0)"
   ]
  },
  {
   "cell_type": "code",
   "execution_count": null,
   "metadata": {},
   "outputs": [],
   "source": [
    "# Crear una matriz 2x2x2, llena de 3.14\n",
    "pi2 = np.full((2, 2, 2), 3.14)\n",
    "print(pi2)"
   ]
  },
  {
   "cell_type": "code",
   "execution_count": null,
   "metadata": {},
   "outputs": [],
   "source": [
    "# Crear un arreglo de 15 números igualmente espaciados entre 0 y 1\n",
    "l1 = np.linspace(0, 1, 15)\n",
    "print(l1)"
   ]
  },
  {
   "cell_type": "code",
   "execution_count": null,
   "metadata": {},
   "outputs": [],
   "source": [
    "# Crear una matriz 3x4 con números aleatorios uniformemente distribuidos, entre 0 y 1:\n",
    "m2 = np.random.random((3, 3))\n",
    "print(m2)"
   ]
  },
  {
   "cell_type": "code",
   "execution_count": null,
   "metadata": {},
   "outputs": [],
   "source": [
    "# Crear un arreglo de 15 valores normalmente distribuido, con media 0 y desviación estándar 1\n",
    "na = np.random.normal(0, 1, 15)\n",
    "print(na)"
   ]
  },
  {
   "cell_type": "code",
   "execution_count": null,
   "metadata": {},
   "outputs": [],
   "source": [
    "# Crear una matriz de 7x3 valores aleatorios entre 0 y 100\n",
    "m3 = np.random.randint(0, 100, (7, 3))\n",
    "print(m3)"
   ]
  },
  {
   "cell_type": "code",
   "execution_count": null,
   "metadata": {},
   "outputs": [],
   "source": [
    "# Crear una matriz identidad de 5x5\n",
    "i1 = np.eye(5)\n",
    "print(i1)"
   ]
  },
  {
   "cell_type": "markdown",
   "metadata": {},
   "source": [
    "Un arreglo Numpy tiene un conjunto de atributos que resultan útiles:"
   ]
  },
  {
   "cell_type": "code",
   "execution_count": null,
   "metadata": {},
   "outputs": [],
   "source": [
    "print(\"m3 ndim: \", m3.ndim)\n",
    "print(\"m3 shape:\", m3.shape)\n",
    "print(\"m3 size: \", m3.size)\n",
    "print(\"m3.dtype:\", m3.dtype)\n",
    "print(\"m3.itemsize:\", m3.itemsize, \"bytes\")\n",
    "print(\"m3.nbytes:\", m3.nbytes, \"bytes\")"
   ]
  },
  {
   "cell_type": "markdown",
   "metadata": {},
   "source": [
    "Los elementos de un arreglos se acceden de la misma forma que en una lista; `[0]` para el primero, `[-1]`para el último, `[4]`para el 5to. "
   ]
  },
  {
   "cell_type": "code",
   "execution_count": null,
   "metadata": {},
   "outputs": [],
   "source": [
    "a = np.linspace(0, np.pi, 5)\n",
    "print(a)"
   ]
  },
  {
   "cell_type": "code",
   "execution_count": null,
   "metadata": {},
   "outputs": [],
   "source": [
    "print(f\"a[0] = {a[0]}\")\n",
    "print(f\"a[-1] = {a[-1]}\")\n",
    "print(f\"a[4] = {a[4]}\")"
   ]
  },
  {
   "cell_type": "code",
   "execution_count": null,
   "metadata": {},
   "outputs": [],
   "source": [
    "x = np.array([[1, 2, 4, 10], [7, 6, 8, 8], [1, 6, 7, 7]])\n",
    "print(x)"
   ]
  },
  {
   "cell_type": "code",
   "execution_count": null,
   "metadata": {},
   "outputs": [],
   "source": [
    "print(f\"x[0,0] = {x[0, 0]}\")\n",
    "print(f\"x[2,0] = {x[2, 0]}\")\n",
    "print(f\"x[2,-1] = {x[2, -1]}\")"
   ]
  },
  {
   "cell_type": "markdown",
   "metadata": {},
   "source": [
    "Numpy también ofrece una gran cantidad de operaciones, optimizadas para trabajar con arreglos."
   ]
  },
  {
   "cell_type": "code",
   "execution_count": null,
   "metadata": {},
   "outputs": [],
   "source": [
    "# Trigonométricas\n",
    "print(f\"sin(a) = {np.sin(a)}\")\n",
    "print(f\"cos(a) = {np.cos(a)}\")\n",
    "print(f\"tan(a) = {np.tan(a)}\")"
   ]
  },
  {
   "cell_type": "code",
   "execution_count": null,
   "metadata": {},
   "outputs": [],
   "source": [
    "# Exponencial y Logaritmos\n",
    "print(\"e^x =\", np.exp(x))\n",
    "print(\"2^x =\", np.exp2(x))\n",
    "print(\"3^x =\", np.power(3, x))"
   ]
  },
  {
   "cell_type": "code",
   "execution_count": null,
   "metadata": {},
   "outputs": [],
   "source": [
    "print(\"ln(x) =\", np.log(x))\n",
    "print(\"log2(x) =\", np.log2(x))\n",
    "print(\"log10(x) =\", np.log10(x))"
   ]
  },
  {
   "cell_type": "markdown",
   "metadata": {},
   "source": [
    "## Operaciones con matrices"
   ]
  },
  {
   "cell_type": "code",
   "execution_count": null,
   "metadata": {},
   "outputs": [],
   "source": [
    "# Crear dos matrices con valores iniciales\n",
    "x = np.array([[1, 2], [4, 5]])\n",
    "y = np.array([[7, 8], [9, 10]])\n",
    "print(\"x =\\n\", x)\n",
    "print(\"y =\\n\", y)"
   ]
  },
  {
   "cell_type": "code",
   "execution_count": null,
   "metadata": {},
   "outputs": [],
   "source": [
    "# Suma los elementos de ambas matrices\n",
    "print(\"x + y =\\n\", x + y)"
   ]
  },
  {
   "cell_type": "code",
   "execution_count": null,
   "metadata": {},
   "outputs": [],
   "source": [
    "# Multiplica los elementos de ambas matrices (no multiplica matrices)\n",
    "print(\"x * y =\\n\", x * y)"
   ]
  },
  {
   "cell_type": "code",
   "execution_count": null,
   "metadata": {},
   "outputs": [],
   "source": [
    "# Producto de matrices, es equivalente a np.dot(x, y) \n",
    "print(\"x @ y =\\n\", x @ y)"
   ]
  },
  {
   "cell_type": "code",
   "execution_count": null,
   "metadata": {},
   "outputs": [],
   "source": [
    "print(\"suma de todos los elementos de x =\\n\", np.sum(x))"
   ]
  },
  {
   "cell_type": "code",
   "execution_count": null,
   "metadata": {},
   "outputs": [],
   "source": [
    "print(\"suma por columnas de y =\\n\", np.sum(y, axis=0))"
   ]
  },
  {
   "cell_type": "code",
   "execution_count": null,
   "metadata": {},
   "outputs": [],
   "source": [
    "print(\"suma por filas de y =\\n\", np.sum(y, axis=1))"
   ]
  },
  {
   "cell_type": "code",
   "execution_count": null,
   "metadata": {},
   "outputs": [],
   "source": [
    "print(\"matriz traspuesta de x =\\n\", x.T)"
   ]
  },
  {
   "cell_type": "code",
   "execution_count": null,
   "metadata": {},
   "outputs": [],
   "source": [
    "# Crear dos matrices 3x2 con números aleatorios\n",
    "a = np.floor( 10 * np.random.random((3,2)) )\n",
    "b = np.floor( 10 * np.random.random((3,2)) )\n",
    "print(\"a =\\n\", a)\n",
    "print(\"b =\\n\", b)"
   ]
  },
  {
   "cell_type": "code",
   "execution_count": null,
   "metadata": {},
   "outputs": [],
   "source": [
    "# Apilar en forma vertical\n",
    "np.vstack((a,b))"
   ]
  },
  {
   "cell_type": "code",
   "execution_count": null,
   "metadata": {},
   "outputs": [],
   "source": [
    "# Apilar en forma horizontal\n",
    "np.hstack((a,b))"
   ]
  },
  {
   "cell_type": "markdown",
   "metadata": {},
   "source": [
    "# Manipulacion de imagenes\n",
    "\n",
    "![loro](loro.jpg)"
   ]
  },
  {
   "cell_type": "code",
   "execution_count": null,
   "metadata": {},
   "outputs": [],
   "source": [
    "from PIL import Image"
   ]
  },
  {
   "cell_type": "code",
   "execution_count": null,
   "metadata": {},
   "outputs": [],
   "source": [
    "#lee imagen y la convierte en arreglo\n",
    "loro = np.array(Image.open('loro.jpg'))"
   ]
  },
  {
   "cell_type": "code",
   "execution_count": null,
   "metadata": {},
   "outputs": [],
   "source": [
    "print(loro.ndim) #dimensiones del arreglo\n",
    "print(loro.shape)\n",
    "print(loro.size)"
   ]
  },
  {
   "cell_type": "code",
   "execution_count": null,
   "metadata": {},
   "outputs": [],
   "source": [
    "print(loro[50,80])\n",
    "# el cero es la posicion en este caso trea el primero\n",
    "print(loro[50,80, 0])\n",
    "r, g, b = loro[50,80]# asigna el valor a cada variable\n"
   ]
  },
  {
   "cell_type": "code",
   "execution_count": null,
   "metadata": {},
   "outputs": [],
   "source": [
    "#cambiar colo de pixel\n",
    "loro[50,80] = (255,255,0)"
   ]
  },
  {
   "cell_type": "code",
   "execution_count": null,
   "metadata": {},
   "outputs": [],
   "source": [
    "max_x, max_y, max_p = loro.shape"
   ]
  },
  {
   "cell_type": "code",
   "execution_count": null,
   "metadata": {},
   "outputs": [],
   "source": [
    "loro_rojo = loro.copy()\n",
    "\n",
    "for x in range(0, max_x//2):\n",
    "    for y in range(0, max_y//2):\n",
    "        r, g, b = loro[x,y]\n",
    "        loro_rojo[x,y] = (r, 0, 0)\n",
    "\n",
    "loro_rojo_imagen = Image.fromarray(loro_rojo)\n",
    "loro_rojo_imagen.save('rojo.jpg')"
   ]
  },
  {
   "cell_type": "markdown",
   "metadata": {},
   "source": [
    "![loro rojo](rojo.jpg)"
   ]
  },
  {
   "cell_type": "code",
   "execution_count": null,
   "metadata": {},
   "outputs": [],
   "source": [
    "loro_rojo2 = loro.copy()\n",
    "\n",
    "#rojo\n",
    "#converva 1y el 2\n",
    "loro_rojo2[:,:, (1, 2)] = 0\n",
    "loro_rojo2_imagen = Image.fromarray(loro_rojo2)\n",
    "loro_rojo2_imagen.save('rojo2.jpg')\n",
    "\n",
    "#verde\n",
    "\n",
    "#azul"
   ]
  },
  {
   "cell_type": "markdown",
   "metadata": {},
   "source": [
    "![loro2](rojo2.jpg)"
   ]
  },
  {
   "cell_type": "code",
   "execution_count": null,
   "metadata": {},
   "outputs": [],
   "source": [
    "loro3 = loro.copy()\n",
    "\n",
    "loro3 *= 3\n",
    "loro3i = Image.fromarray(loro3)\n",
    "loro3i\n"
   ]
  },
  {
   "cell_type": "code",
   "execution_count": null,
   "metadata": {},
   "outputs": [],
   "source": [
    "loro_rojo2 = loro.copy()\n",
    "\n",
    "#rojo\n",
    "loro_rojo2_imagen = Image.fromarray(loro_rojo2[::-1])\n",
    "loro_rojo2_imagen"
   ]
  },
  {
   "cell_type": "code",
   "execution_count": null,
   "metadata": {},
   "outputs": [],
   "source": [
    "img = np.array(Image.open('loro.jpg'))\n",
    "\n",
    "\n",
    "gray = lambda rgb : np.dot(rgb[... , :3] , [0.299 , 0.587, 0.114])\n",
    "\n",
    "img_show = Image.fromarray(img)\n",
    "img_show"
   ]
  },
  {
   "cell_type": "code",
   "execution_count": null,
   "metadata": {},
   "outputs": [],
   "source": []
  }
 ],
 "metadata": {
  "kernelspec": {
   "display_name": "Python 3",
   "language": "python",
   "name": "python3"
  },
  "language_info": {
   "codemirror_mode": {
    "name": "ipython",
    "version": 3
   },
   "file_extension": ".py",
   "mimetype": "text/x-python",
   "name": "python",
   "nbconvert_exporter": "python",
   "pygments_lexer": "ipython3",
   "version": "3.8.8"
  }
 },
 "nbformat": 4,
 "nbformat_minor": 4
}
