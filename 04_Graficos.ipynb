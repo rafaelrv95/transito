{
 "cells": [
  {
   "cell_type": "markdown",
   "metadata": {},
   "source": [
    "# Gráficos básicos con `matplotlib`"
   ]
  },
  {
   "cell_type": "markdown",
   "metadata": {},
   "source": [
    "La librería [`matplotlib`](https://matplotlib.org/stable/gallery/index.html) permite incluir las figuras (imágenes) directamente en el _notebook_ usando `%matplotlib inline` o `%matplotlib notebook` para un ambiente interactivo."
   ]
  },
  {
   "cell_type": "code",
   "execution_count": null,
   "metadata": {},
   "outputs": [],
   "source": [
    "import numpy as np\n",
    "import matplotlib.pyplot as plt\n",
    "\n",
    "%matplotlib inline"
   ]
  },
  {
   "cell_type": "code",
   "execution_count": null,
   "metadata": {},
   "outputs": [],
   "source": [
    "# Crea una nueva figura (es el espacio para hacer las gráficas), y la hace activa:\n",
    "\n",
    "# Pinta un punto en [3,2], como el default es '-' en realidad no muestra el punto\n",
    "\n",
    "# Muestra la figura (la imagen) embebida en el notebook\n",
    "\n",
    "# Cierra la figura, asi se libera la memoria\n"
   ]
  },
  {
   "cell_type": "code",
   "execution_count": null,
   "metadata": {},
   "outputs": [],
   "source": [
    "plt.figure()\n",
    "# Pinta un punto en [3,2], pero ahora si queremos ver el punto '.', en color rojo 'r'\n",
    "\n",
    "plt.show()\n",
    "plt.close()"
   ]
  },
  {
   "cell_type": "code",
   "execution_count": null,
   "metadata": {},
   "outputs": [],
   "source": [
    "plt.figure()\n",
    "# Pinta el punto con un circulo 'o' como marcador, de color verde 'g'\n",
    "\n",
    "# Obtiene los ejes (bordes)\n",
    "\n",
    "# Ajusta los bordes [xmin, xmax, ymin, ymax]\n",
    "\n",
    "plt.show()\n",
    "plt.close()"
   ]
  },
  {
   "cell_type": "code",
   "execution_count": null,
   "metadata": {
    "scrolled": true
   },
   "outputs": [],
   "source": [
    "plt.figure()\n",
    "# Pinta varios puntos, cada uno con un formato diferente\n",
    "# 'r+-' = rojo, cruz, linea\n",
    "\n",
    "# 'b-' = azul, linea\n",
    "\n",
    "# 'go--' = verde, circulo, rayas\n",
    "\n",
    "# 'm.--' = magenta, punto, royas\n",
    "\n",
    "plt.show()\n",
    "plt.close()"
   ]
  },
  {
   "cell_type": "code",
   "execution_count": null,
   "metadata": {},
   "outputs": [],
   "source": [
    "x = np.sort(np.random.randint(100, size=(25)))\n",
    "y = np.random.randint(100, size=(25))\n",
    "print(x, y)"
   ]
  },
  {
   "cell_type": "code",
   "execution_count": null,
   "metadata": {},
   "outputs": [],
   "source": [
    "plt.figure()\n",
    "# graficar la serie con puntos rojos\n",
    "\n",
    "plt.show()\n",
    "plt.close()"
   ]
  },
  {
   "cell_type": "code",
   "execution_count": null,
   "metadata": {},
   "outputs": [],
   "source": [
    "plt.figure()\n",
    "# graficar la serie con una linea azul\n",
    "\n",
    "plt.show()\n",
    "plt.close()"
   ]
  },
  {
   "cell_type": "code",
   "execution_count": null,
   "metadata": {
    "scrolled": true
   },
   "outputs": [],
   "source": [
    "plt.figure()\n",
    "# una forma equivalente a plt.plot(x, y, 'o')\n",
    "\n",
    "plt.show()\n",
    "plt.close()"
   ]
  },
  {
   "cell_type": "code",
   "execution_count": null,
   "metadata": {},
   "outputs": [],
   "source": [
    "# Crear una lista de colores, un color para cada valor de y (altura)\n",
    "colors = []\n",
    "for i in range(0,len(y)):\n",
    "    if y[i] < 25:\n",
    "        colors.append('r') # red\n",
    "    elif y[i] < 75:\n",
    "        colors.append('y') # yellow\n",
    "    else:\n",
    "        colors.append('g') # green\n",
    "print(colors)"
   ]
  },
  {
   "cell_type": "code",
   "execution_count": null,
   "metadata": {},
   "outputs": [],
   "source": [
    "plt.figure()\n",
    "plt.plot(x, y, c='grey')\n",
    "plt.scatter(x, y, s=100, c=colors)\n",
    "plt.show()\n",
    "plt.close()"
   ]
  },
  {
   "cell_type": "code",
   "execution_count": null,
   "metadata": {},
   "outputs": [],
   "source": [
    "plt.figure()\n",
    "plt.scatter(x[:12], y[:12], c='r')\n",
    "plt.scatter(x[12:], y[12:], c='b')\n",
    "plt.show()\n",
    "plt.close()"
   ]
  },
  {
   "cell_type": "markdown",
   "metadata": {},
   "source": [
    "# Gráficos de línea"
   ]
  },
  {
   "cell_type": "code",
   "execution_count": null,
   "metadata": {},
   "outputs": [],
   "source": [
    "# Cree una variable lineal con un array del 1 al 8\n",
    "\n",
    "# Cree una variable exponencial con lineal al cuadrado\n",
    "\n",
    "# Cree una variable cubica con lineal al cubo\n"
   ]
  },
  {
   "cell_type": "code",
   "execution_count": null,
   "metadata": {},
   "outputs": [],
   "source": [
    "plt.figure()\n",
    "plt.plot(lineal, 'm.--', exponencial, 'g+--')\n",
    "# agregamos algunos letreros\n",
    "# Eje X\n",
    "\n",
    "# Eje Y\n",
    "\n",
    "# Titulo\n",
    "\n",
    "# Leyendas (de las series)\n",
    "\n",
    "# rellenar el area entre las curvas\n",
    "\n",
    "plt.show()\n",
    "plt.close()"
   ]
  },
  {
   "cell_type": "markdown",
   "metadata": {},
   "source": [
    "Intentemos el mismo gráfico con fechas"
   ]
  },
  {
   "cell_type": "code",
   "execution_count": null,
   "metadata": {},
   "outputs": [],
   "source": [
    "fechas = np.arange('2021-01-01', '2021-01-09', dtype='datetime64[D]')\n",
    "\n",
    "plt.figure()\n",
    "# Graficar lineal y exponencial vs. fechas\n",
    "\n",
    "ax = plt.gca() # proyeccion actual\n",
    "for item in ax.xaxis.get_ticklabels():\n",
    "    item.set_rotation(45) # girar cada fecha 45º a la derecha\n",
    "# Eje X\n",
    "\n",
    "# Eje Y\n",
    "\n",
    "ax.set_ylabel('Unidades')\n",
    "ax.set_title('Desempeño Exponencial ($x^2$) vs Lineal ($x$)') # note la expresión matemática\n",
    "plt.show()\n",
    "plt.close()"
   ]
  },
  {
   "cell_type": "code",
   "execution_count": null,
   "metadata": {},
   "outputs": [],
   "source": [
    "x = np.arange(0.0, 1.0, 0.001)\n",
    "y = np.sin(2*np.pi*x)\n",
    "\n",
    "fig, ax = plt.subplots()\n",
    "ax.plot(x, y)\n",
    "ax.set(xlabel='tiempo (s)', ylabel='voltaje (mV)', title='medición voltaje vs. tiempo')\n",
    "ax.grid()\n",
    "plt.show()\n",
    "plt.close()"
   ]
  },
  {
   "cell_type": "markdown",
   "metadata": {},
   "source": [
    "\n",
    "# Gráfico de barras"
   ]
  },
  {
   "cell_type": "code",
   "execution_count": null,
   "metadata": {},
   "outputs": [],
   "source": [
    "x = np.arange(1, 9)\n",
    "x2 = x + 0.3\n",
    "lineal = [12, 6, 3, 10, 8, 5, 2, 11]"
   ]
  },
  {
   "cell_type": "code",
   "execution_count": null,
   "metadata": {},
   "outputs": [],
   "source": [
    "plt.figure()\n",
    "plt.bar(x, lineal, width=0.3, color='blue', alpha=0.50)\n",
    "plt.bar(x2, exponencial, width=0.3, color='red', alpha=0.50)\n",
    "plt.show()\n",
    "plt.close()"
   ]
  },
  {
   "cell_type": "code",
   "execution_count": null,
   "metadata": {},
   "outputs": [],
   "source": [
    "lenguajes =['Python', 'Java', 'C', 'C++', 'JavaScript']\n",
    "pos = np.arange(len(lenguajes))\n",
    "popularidad = [100.0, 95.3, 94.6, 87.0, 79.5]"
   ]
  },
  {
   "cell_type": "code",
   "execution_count": null,
   "metadata": {},
   "outputs": [],
   "source": [
    "plt.figure()\n",
    "plt.bar(pos, popularidad, align='center')\n",
    "plt.xticks(pos, lenguajes)\n",
    "plt.ylabel('% Popularidad')\n",
    "plt.title('Top 5 Lenguajes de Programación IEEE 2020')\n",
    "plt.show()\n",
    "plt.close()"
   ]
  },
  {
   "cell_type": "code",
   "execution_count": null,
   "metadata": {},
   "outputs": [],
   "source": [
    "plt.figure()\n",
    "# Cambiar el color de todas las barras a gris claro\n",
    "barras = plt.bar(pos, popularidad, align='center', linewidth=0, color='lightslategrey')\n",
    "# Resaltar la barra de Python (la #0)\n",
    "barras[0].set_color('#1F77B4')\n",
    "\n",
    "# soften all labels by turning grey\n",
    "plt.xticks(pos, lenguajes, alpha=0.8)\n",
    "plt.ylabel('% Popularidad')\n",
    "plt.title('Top 5 Lenguajes de Programación IEEE 2020')\n",
    "\n",
    "# Quitar todos las lineas de los bordes\n",
    "for spine in plt.gca().spines.values():\n",
    "    spine.set_visible(False)\n",
    "\n",
    "# Ubicar el valor en cada barra\n",
    "for b in barras:\n",
    "    plt.gca().text(\n",
    "        b.get_x() + b.get_width()/2, b.get_height() - 10, \n",
    "        f\"{b.get_height()}%\", ha='center', color='w', fontsize=11)\n",
    "\n",
    "plt.show()"
   ]
  },
  {
   "cell_type": "markdown",
   "metadata": {},
   "source": [
    "# Histogramas"
   ]
  },
  {
   "cell_type": "code",
   "execution_count": null,
   "metadata": {},
   "outputs": [],
   "source": [
    "mu, sigma = 2, 0.5\n",
    "v = np.random.normal(mu, sigma, 10000)\n",
    "plt.figure()\n",
    "plt.hist(v, bins=50, density=1) # 50 contenedores\n",
    "plt.show()\n",
    "plt.close()"
   ]
  },
  {
   "cell_type": "markdown",
   "metadata": {},
   "source": [
    "# Gráficos 3D"
   ]
  },
  {
   "cell_type": "code",
   "execution_count": null,
   "metadata": {},
   "outputs": [],
   "source": [
    "from mpl_toolkits.mplot3d import Axes3D\n",
    "\n",
    "p=np.random.rand(50,3)\n",
    "section=[[21, 13,  2, 36, 20, 15,21],[7, 14, 19, 32,7]]\n",
    "\n",
    "fig = plt.figure()\n",
    "ax = fig.gca(projection = '3d')\n",
    "\n",
    "color=['red', 'blue']\n",
    "for i in range(2):\n",
    "    x,y,z = p[section[i]].T\n",
    "    ax.plot(x,y,z, color[i])\n",
    "plt.show()"
   ]
  },
  {
   "cell_type": "code",
   "execution_count": null,
   "metadata": {},
   "outputs": [],
   "source": [
    "x = np.arange(-5, 5, 0.15)\n",
    "y = np.arange(-5, 5, 0.15)\n",
    "x, y = np.meshgrid(x, y)\n",
    "r = np.sqrt(x**2 + y**2)\n",
    "z = np.cos(r)\n",
    "\n",
    "fig = plt.figure()\n",
    "ax = Axes3D(fig)\n",
    "ax.plot_surface(x, y, z, cmap='Oranges') # https://matplotlib.org/2.0.2/users/colormaps.html\n",
    "plt.show()"
   ]
  },
  {
   "cell_type": "code",
   "execution_count": null,
   "metadata": {},
   "outputs": [],
   "source": [
    "lenguajes"
   ]
  },
  {
   "cell_type": "code",
   "execution_count": null,
   "metadata": {},
   "outputs": [],
   "source": []
  }
 ],
 "metadata": {
  "kernelspec": {
   "display_name": "Python 3",
   "language": "python",
   "name": "python3"
  },
  "language_info": {
   "codemirror_mode": {
    "name": "ipython",
    "version": 3
   },
   "file_extension": ".py",
   "mimetype": "text/x-python",
   "name": "python",
   "nbconvert_exporter": "python",
   "pygments_lexer": "ipython3",
   "version": "3.8.8"
  }
 },
 "nbformat": 4,
 "nbformat_minor": 1
}
