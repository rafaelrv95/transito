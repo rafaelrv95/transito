{
 "cells": [
  {
   "cell_type": "markdown",
   "id": "94a2a469",
   "metadata": {},
   "source": [
    "# Titulo 1\n",
    "## Titulo 2\n",
    "### Titulo 3\n",
    "#### Titulo 4\n",
    "##### Titulo 5\n",
    "###### Titulo 6"
   ]
  },
  {
   "cell_type": "markdown",
   "id": "e988cb85",
   "metadata": {},
   "source": [
    "# blockquoute\n",
    "\n",
    "los _blockquotes_ se hacen con el signo de ``>``\n",
    "> # titulo del blockquote\n",
    "> parrafo del blockqoute\n",
    ">\n",
    ">> blockqoute anidado\n",
    ">> mas texto\n",
    ">\n",
    "> segunda parte\n",
    "> mas text0"
   ]
  },
  {
   "cell_type": "markdown",
   "id": "43809fa9",
   "metadata": {},
   "source": [
    "# Enfasis\n",
    "se pueden poner **negrillas** con doble caracter ```*``` o un ```_``` \n",
    "\n",
    "se pueden poner *italicas* con un solo caracter ```*``` o un ```_``` \n",
    "\n",
    "se have ~~tachado~~ con doble ```~```"
   ]
  },
  {
   "cell_type": "markdown",
   "id": "05dc6301",
   "metadata": {},
   "source": [
    "# listas\n",
    "\n",
    "## Ordenadas\n",
    "\n",
    "1. Colores:\n",
    "    1. rojo\n",
    "    2. verde\n",
    "    3. azul\n",
    "   \n",
    "# No ordenada\n",
    "\n",
    "* animales:\n",
    "    - perro\n",
    "    - gato\n",
    "* furtas:\n",
    "    - citricos:\n",
    "        + limon\n",
    "        + naranja"
   ]
  },
  {
   "cell_type": "markdown",
   "id": "7f5aadda",
   "metadata": {},
   "source": [
    "# Enlaces\n",
    "\n",
    "un elace siempre tiene la forma  ``` [nombre](url)\"tooltip\" ```\n",
    "\n",
    "imagenes es similar pero solo nambre y url\n",
    "\n",
    "### libros\n",
    "* [libro]()"
   ]
  },
  {
   "cell_type": "markdown",
   "id": "81f27114",
   "metadata": {},
   "source": [
    "# codigo \n",
    "\n",
    "utilizar 4 espacios:\n",
    "\n",
    "    frutas = ['pera', 'manzana', 'mango']\n",
    "    for fruta in frutas:\n",
    "        print(fruta)\n",
    "\n",
    "tambien sirve para html\n",
    "\n",
    "tambien se crea bloques de codigo con triple comilla invertida\n",
    "\n",
    "```python\n",
    "frutas = ['pera', 'manzana', 'mango']\n",
    "for fruta in frutas:\n",
    "    print(fruta)\n",
    "```"
   ]
  },
  {
   "cell_type": "code",
   "execution_count": null,
   "id": "26d97b5d",
   "metadata": {},
   "outputs": [],
   "source": []
  }
 ],
 "metadata": {
  "kernelspec": {
   "display_name": "Python 3",
   "language": "python",
   "name": "python3"
  },
  "language_info": {
   "codemirror_mode": {
    "name": "ipython",
    "version": 3
   },
   "file_extension": ".py",
   "mimetype": "text/x-python",
   "name": "python",
   "nbconvert_exporter": "python",
   "pygments_lexer": "ipython3",
   "version": "3.8.8"
  }
 },
 "nbformat": 4,
 "nbformat_minor": 5
}
